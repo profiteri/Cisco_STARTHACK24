{
 "cells": [
  {
   "cell_type": "code",
   "execution_count": null,
   "metadata": {},
   "outputs": [],
   "source": [
    "import seaborn as sns\n",
    "import matplotlib.pyplot as plt\n",
    "import numpy as np\n",
    "import os\n",
    "import json"
   ]
  },
  {
   "cell_type": "code",
   "execution_count": null,
   "metadata": {},
   "outputs": [],
   "source": [
    "filename = os.path.join(\"logs.json\")\n",
    "\n",
    "with open(filename, 'r') as file:\n",
    "    json_list = json.load(file)\n"
   ]
  },
  {
   "cell_type": "code",
   "execution_count": null,
   "metadata": {},
   "outputs": [],
   "source": [
    "timestamp_granularity = 2\n",
    "\n",
    "min_x = None\n",
    "max_x = None\n",
    "min_y = None\n",
    "max_y = None\n",
    "\n",
    "events_at_timestamp = dict()\n",
    "total_events = 0\n",
    "for obj in json_list:\n",
    "    if obj[\"eventType\"] == \"DEVICE_LOCATION_UPDATE\":\n",
    "        total_events += 1\n",
    "        device_location_update = obj[\"deviceLocationUpdate\"]\n",
    "        pos_x = device_location_update[\"xPos\"]\n",
    "        pos_y = device_location_update[\"yPos\"]\n",
    "        if min_x == None or min_x > pos_x:\n",
    "            min_x = pos_x\n",
    "\n",
    "        if max_x == None or max_x < pos_x:\n",
    "            max_x = pos_x\n",
    "\n",
    "        if min_y == None or min_y > pos_y:\n",
    "            min_y = pos_y\n",
    "\n",
    "        if max_y == None or max_y < pos_y:\n",
    "            max_y = pos_y\n",
    "\n",
    "        if timestamp_granularity > 0:\n",
    "            ts = int(str(obj[\"recordTimestamp\"])[:-timestamp_granularity])\n",
    "        else:\n",
    "            ts = obj[\"recordTimestamp\"]\n",
    "        if ts not in events_at_timestamp:\n",
    "            events_at_timestamp[ts] = []\n",
    "        events_at_timestamp[ts].append(obj)\n",
    "\n",
    "print(f\"{len(events_at_timestamp)}/{total_events}\")\n",
    "print(events_at_timestamp)\n",
    "print(f\"x: {min_x} - {max_x}\")\n",
    "print(f\"y: {min_y} - {max_y}\")"
   ]
  },
  {
   "cell_type": "code",
   "execution_count": null,
   "metadata": {},
   "outputs": [],
   "source": [
    "all_timestamps = list(events_at_timestamp.keys())\n",
    "\n",
    "sampled_timestamp = all_timestamps[21]\n",
    "\n",
    "location_precision = 50\n",
    "\n",
    "data = np.zeros((int(max_x) // location_precision + 1, int(max_y) // location_precision + 1))\n",
    "\n",
    "for event in events_at_timestamp[sampled_timestamp]:\n",
    "    x = int(event[\"deviceLocationUpdate\"][\"xPos\"]) // location_precision\n",
    "    y = int(event[\"deviceLocationUpdate\"][\"yPos\"]) // location_precision\n",
    "    data[x][y] += 1\n",
    "\n",
    "data = np.where(data == 0, np.nan, data)\n",
    "\n",
    "\n",
    "# Create the heatmap\n",
    "sns.heatmap(data, annot=True, cmap='coolwarm')\n",
    "\n",
    "# Add labels and title\n",
    "plt.xlabel('X Axis')\n",
    "plt.ylabel('Y Axis')\n",
    "plt.title('Heatmap Example')\n",
    "\n",
    "# Show the plot\n",
    "plt.show()"
   ]
  }
 ],
 "metadata": {
  "kernelspec": {
   "display_name": "start",
   "language": "python",
   "name": "python3"
  },
  "language_info": {
   "codemirror_mode": {
    "name": "ipython",
    "version": 3
   },
   "file_extension": ".py",
   "mimetype": "text/x-python",
   "name": "python",
   "nbconvert_exporter": "python",
   "pygments_lexer": "ipython3",
   "version": "3.10.13"
  }
 },
 "nbformat": 4,
 "nbformat_minor": 2
}
